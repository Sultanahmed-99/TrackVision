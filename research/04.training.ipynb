{
 "cells": [
  {
   "cell_type": "code",
   "execution_count": 136,
   "metadata": {},
   "outputs": [],
   "source": [
    "import os"
   ]
  },
  {
   "cell_type": "code",
   "execution_count": 137,
   "metadata": {},
   "outputs": [
    {
     "data": {
      "text/plain": [
       "'/Users/sultanalyami'"
      ]
     },
     "execution_count": 137,
     "metadata": {},
     "output_type": "execute_result"
    }
   ],
   "source": [
    "%pwd "
   ]
  },
  {
   "cell_type": "code",
   "execution_count": 138,
   "metadata": {},
   "outputs": [],
   "source": [
    "os.chdir('../')"
   ]
  },
  {
   "cell_type": "code",
   "execution_count": 139,
   "metadata": {},
   "outputs": [
    {
     "data": {
      "text/plain": [
       "'/Users'"
      ]
     },
     "execution_count": 139,
     "metadata": {},
     "output_type": "execute_result"
    }
   ],
   "source": [
    "%pwd"
   ]
  },
  {
   "cell_type": "code",
   "execution_count": 73,
   "metadata": {},
   "outputs": [],
   "source": [
    "from dataclasses import dataclass\n",
    "from pathlib import Path\n",
    "# Training the model data class \n",
    "@dataclass(frozen=True)\n",
    "class TrainingConfig:\n",
    "    root_dir : Path \n",
    "    trained_model_path: Path\n",
    "    update_base_model_path: Path\n",
    "    training_data : Path\n",
    "    params_is_augmentation : bool \n",
    "    params_image_size : list\n",
    "    params_batch_size : int\n",
    "    params_epochs : int     \n",
    "    params_learning_rate : float\n",
    "\n",
    "\n",
    "\n",
    "# Callbacks data class \n",
    "\n",
    "@dataclass(frozen=True)\n",
    "class PreaperModelCallBacks:\n",
    "    root_dir : Path \n",
    "    tensrboard_root_log_dir: Path\n",
    "    checkpoint_model_filepath: Path\n"
   ]
  },
  {
   "cell_type": "code",
   "execution_count": 74,
   "metadata": {},
   "outputs": [],
   "source": [
    "from srcTrackVision.utils.common import read_yaml , create_directories"
   ]
  },
  {
   "cell_type": "code",
   "execution_count": 75,
   "metadata": {},
   "outputs": [],
   "source": [
    "class ConfigurationManager:\n",
    "    def __init__(\n",
    "            self , \n",
    "            config_filepath = '/Users/sultanalyami/Desktop/TrackVision_Project/TrackVision/config/config.yaml',\n",
    "            params_filepath = '/Users/sultanalyami/Desktop/TrackVision_Project/TrackVision/params.yaml' ):\n",
    "        \n",
    "\n",
    "        self.config = read_yaml(config_filepath)\n",
    "        self.params = read_yaml(params_filepath)\n",
    "        # Create the root dir \n",
    "        create_directories([self.config.artifacts_root])\n",
    "\n",
    "\n",
    "\n",
    "    def get_preaper_model_callbacks_config(self) -> PreaperModelCallBacks:\n",
    "        config = self.config.preaper_callbacks\n",
    "        model_chpt_dir = os.path.dirname(config.checkpoint_model_filepath)\n",
    "        create_directories([\n",
    "            Path(model_chpt_dir) ,\n",
    "            Path(config.tensrboard_root_log_dir)\n",
    "        ])\n",
    "        preaper_model_callbacks_config = PreaperModelCallBacks(\n",
    "            root_dir= Path(config.root_dir),\n",
    "            tensrboard_root_log_dir = Path(config.tensrboard_root_log_dir),\n",
    "            checkpoint_model_filepath = Path(config.checkpoint_model_filepath)\n",
    "             \n",
    "\n",
    "        )\n",
    "\n",
    "    \n",
    "        return preaper_model_callbacks_config\n",
    "    \n",
    "\n",
    "    def get_training_config(self) -> TrainingConfig:\n",
    "        training =  self.config.training\n",
    "        prepare_base_model = self.config.preaper_base_model \n",
    "        params = self.params\n",
    "        train_data = os.path.join(self.config.data_ingestion.unzip_file, \"archive/CK+48\")\n",
    "        create_directories([\n",
    "            Path(training.root_dir)\n",
    "        ])\n",
    "\n",
    "        training_config = TrainingConfig(\n",
    "            root_dir = Path(training.root_dir),\n",
    "            trained_model_path= Path(training.trained_model_path),\n",
    "            update_base_model_path= Path(prepare_base_model.update_base_model_path),\n",
    "            training_data = Path(train_data) ,\n",
    "            params_is_augmentation = params.AUGMENTATION, \n",
    "            params_image_size = params.IMAGE_SIZE,\n",
    "            params_batch_size = params.BATCH_SIZE,\n",
    "            params_epochs = params.EPOCHS,\n",
    "            params_learning_rate = params.LEARNING_RATE\n",
    "        )\n",
    "\n",
    "        return training_config"
   ]
  },
  {
   "cell_type": "code",
   "execution_count": 76,
   "metadata": {},
   "outputs": [],
   "source": [
    "import time \n",
    "import tensorflow as tf "
   ]
  },
  {
   "cell_type": "code",
   "execution_count": 77,
   "metadata": {},
   "outputs": [],
   "source": [
    "class PreaperCallBacks:\n",
    "    def __init__ (self  , config = PreaperModelCallBacks):\n",
    "        self.config = config\n",
    "\n",
    "    @property\n",
    "    def _create_tb_callbacks (self):\n",
    "        timestamp = time.strftime('%Y-%m-%d-%H-%M-%S')\n",
    "        tb_running_log_dir = os.path.join(self.config.tensrboard_root_log_dir  \n",
    "                                          , f'tb_logs_at_{timestamp}')\n",
    "        \n",
    "\n",
    "        return tf.keras.callbacks.TensorBoard(log_dir = tb_running_log_dir)\n",
    "    \n",
    "    @property\n",
    "    def _create_checkpoint_callbacks (self):\n",
    "        return tf.keras.callbacks.ModelCheckpoint(filepath= self.config.checkpoint_model_filepath, \n",
    "                                                   save_best_only= True\n",
    "        )\n",
    "    \n",
    "\n",
    "    def get_tb_checkpoint_callbacks (self):\n",
    "        return [\n",
    "            self._create_tb_callbacks,\n",
    "            self._create_checkpoint_callbacks\n",
    "        ]"
   ]
  },
  {
   "cell_type": "code",
   "execution_count": 123,
   "metadata": {},
   "outputs": [],
   "source": [
    "class Training:\n",
    "    def __init__(self , config = TrainingConfig):\n",
    "        self.config = config\n",
    "\n",
    "\n",
    "    def get_base_model(self):\n",
    "        self.model = tf.keras.models.load_model(\n",
    "            self.config.update_base_model_path\n",
    "        )\n",
    "    def train_valid_generator(self):\n",
    "        datagenerator_kwargs = dict(\n",
    "            rescale = 1./255,\n",
    "            validation_split = 0.30\n",
    "        )  \n",
    "\n",
    "        dataflow_kwargs = dict(\n",
    "            target_size = self.config.params_image_size[:-1],\n",
    "            batch_size = self.config.params_batch_size,\n",
    "            interpolation = 'bilinear',\n",
    "        )\n",
    "\n",
    "        valid_generator = tf.keras.preprocessing.image.ImageDataGenerator(\n",
    "            **datagenerator_kwargs\n",
    "        )\n",
    "\n",
    "\n",
    "        self.valid_generator = valid_generator.flow_from_directory(\n",
    "                directory= self.config.training_data\n",
    "                , subset= 'validation'\n",
    "                , shuffle= False\n",
    "                , **dataflow_kwargs\n",
    "                \n",
    "        )\n",
    "\n",
    "        if self.config.params_is_augmentation:\n",
    "            train_datagenerator = tf.keras.preprocessing.image.ImageDataGenerator(\n",
    "                horizontal_flip=False \n",
    "                , rotation_range = 10\n",
    "                , zoom_range= 0.1\n",
    "                , **datagenerator_kwargs\n",
    "\n",
    "            )\n",
    "        else : \n",
    "            train_datagenerator = valid_generator\n",
    "                        \n",
    "        self.train_generator = train_datagenerator.flow_from_directory(\n",
    "                        directory= self.config.training_data\n",
    "                        , shuffle= True\n",
    "                        , subset= 'training'\n",
    "                        , **dataflow_kwargs\n",
    "        )\n",
    "    @staticmethod \n",
    "    def save_model(path : Path  , model : tf.keras.models.Model):\n",
    "        model.save(path)\n",
    "\n",
    "\n",
    "    def train(self , callbacks_list : list):\n",
    "        self.steps_per_epoch = self.train_generator.samples // self.config.params_batch_size\n",
    "        self.validation_steps = self.valid_generator.samples // self.config.params_batch_size\n",
    "\n",
    "        self.model.fit(\n",
    "                    self.train_generator\n",
    "                    , steps_per_epoch = self.steps_per_epoch\n",
    "                    , validation_steps = self.validation_steps\n",
    "                    , validation_data = self.valid_generator\n",
    "                    , epochs = self.config.params_epochs\n",
    "                    , callbacks = callbacks_list\n",
    "        ) \n",
    "\n",
    "        self.save_model(\n",
    "           path = self.config.trained_model_path\n",
    "           , model = self.model\n",
    "           \n",
    "        )\n",
    "\n",
    "\n",
    "        "
   ]
  },
  {
   "cell_type": "code",
   "execution_count": 126,
   "metadata": {},
   "outputs": [
    {
     "name": "stdout",
     "output_type": "stream",
     "text": [
      "2023-06-17 20:32:30,309 - trackvisionlogger - INFO - yaml file /Users/sultanalyami/Desktop/TrackVision_Project/TrackVision/config/config.yaml loaded successfully\n",
      "2023-06-17 20:32:30,312 - trackvisionlogger - INFO - yaml file /Users/sultanalyami/Desktop/TrackVision_Project/TrackVision/params.yaml loaded successfully\n",
      "2023-06-17 20:32:30,313 - trackvisionlogger - INFO - Created directory at: /Users/sultanalyami/Desktop/TrackVision_Project/TrackVision/artifacts\n",
      "2023-06-17 20:32:30,316 - trackvisionlogger - INFO - Created directory at: /Users/sultanalyami/Desktop/TrackVision_Project/TrackVision/artifacts/checkpoint_dir\n",
      "2023-06-17 20:32:30,316 - trackvisionlogger - INFO - Created directory at: /Users/sultanalyami/Desktop/TrackVision_Project/TrackVision/artifacts/preaper_callbacks/tensorboard_log_dir\n",
      "2023-06-17 20:32:30,319 - trackvisionlogger - INFO - Created directory at: /Users/sultanalyami/Desktop/TrackVision_Project/TrackVision/artifacts/training\n",
      "Found 292 images belonging to 7 classes.\n",
      "Found 689 images belonging to 7 classes.\n",
      "Epoch 1/3\n",
      "21/21 [==============================] - 12s 510ms/step - loss: 2.1056 - accuracy: 0.1948 - val_loss: 1.8488 - val_accuracy: 0.2431\n",
      "Epoch 2/3\n",
      "21/21 [==============================] - 9s 420ms/step - loss: 1.9663 - accuracy: 0.2100 - val_loss: 1.9174 - val_accuracy: 0.2431\n",
      "Epoch 3/3\n",
      "21/21 [==============================] - 9s 415ms/step - loss: 1.9189 - accuracy: 0.2344 - val_loss: 1.8811 - val_accuracy: 0.2431\n"
     ]
    }
   ],
   "source": [
    "from srcTrackVision import logger\n",
    "try:\n",
    "    # configuration for callbacks\n",
    "    config = ConfigurationManager()\n",
    "    preaper_callbacks_config = config.get_preaper_model_callbacks_config()\n",
    "    prepaper_model_callbacks = PreaperCallBacks(config= preaper_callbacks_config)\n",
    "    callback_list =  prepaper_model_callbacks.get_tb_checkpoint_callbacks()\n",
    "    # configuration for model training \n",
    "    training_config = config.get_training_config()\n",
    "    training = Training(config=training_config)\n",
    "    training.get_base_model()\n",
    "    training.train_valid_generator()\n",
    "    training.train(\n",
    "        callbacks_list= callback_list\n",
    "    \n",
    "    )\n",
    "    \n",
    "\n",
    "except Exception as e:\n",
    "    logger.exception(e)\n",
    "    raise e"
   ]
  },
  {
   "cell_type": "code",
   "execution_count": null,
   "metadata": {},
   "outputs": [],
   "source": []
  }
 ],
 "metadata": {
  "kernelspec": {
   "display_name": "tensorflow",
   "language": "python",
   "name": "python3"
  },
  "language_info": {
   "codemirror_mode": {
    "name": "ipython",
    "version": 3
   },
   "file_extension": ".py",
   "mimetype": "text/x-python",
   "name": "python",
   "nbconvert_exporter": "python",
   "pygments_lexer": "ipython3",
   "version": "3.8.16"
  },
  "orig_nbformat": 4
 },
 "nbformat": 4,
 "nbformat_minor": 2
}
