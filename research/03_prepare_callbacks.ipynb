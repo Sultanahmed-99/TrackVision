{
 "cells": [
  {
   "cell_type": "code",
   "execution_count": 1,
   "metadata": {},
   "outputs": [],
   "source": [
    "import os"
   ]
  },
  {
   "cell_type": "code",
   "execution_count": 2,
   "metadata": {},
   "outputs": [
    {
     "data": {
      "text/plain": [
       "'/Users/sultanalyami/Desktop/TrackVision_Project/TrackVision/research'"
      ]
     },
     "execution_count": 2,
     "metadata": {},
     "output_type": "execute_result"
    }
   ],
   "source": [
    "%pwd"
   ]
  },
  {
   "cell_type": "code",
   "execution_count": 3,
   "metadata": {},
   "outputs": [],
   "source": [
    "os.chdir('../')"
   ]
  },
  {
   "cell_type": "code",
   "execution_count": 4,
   "metadata": {},
   "outputs": [
    {
     "data": {
      "text/plain": [
       "'/Users/sultanalyami/Desktop/TrackVision_Project/TrackVision'"
      ]
     },
     "execution_count": 4,
     "metadata": {},
     "output_type": "execute_result"
    }
   ],
   "source": [
    "%pwd"
   ]
  },
  {
   "cell_type": "code",
   "execution_count": 5,
   "metadata": {},
   "outputs": [],
   "source": [
    "from dataclasses import dataclass\n",
    "from pathlib import Path\n",
    "@dataclass(frozen=True)\n",
    "class PreaperModelCallBacks:\n",
    "    root_dir : Path \n",
    "    tensrboard_root_log_dir: Path\n",
    "    checkpoint_model_filepath: Path\n",
    "     "
   ]
  },
  {
   "cell_type": "code",
   "execution_count": 6,
   "metadata": {},
   "outputs": [],
   "source": [
    "from srcTrackVision.utils.common import read_yaml , create_directories"
   ]
  },
  {
   "cell_type": "code",
   "execution_count": 18,
   "metadata": {},
   "outputs": [],
   "source": [
    "class ConfigurationManager:\n",
    "    def __init__(\n",
    "            self , \n",
    "            config_filepath = '/Users/sultanalyami/Desktop/TrackVision_Project/TrackVision/config/config.yaml',\n",
    "            params_filepath = '/Users/sultanalyami/Desktop/TrackVision_Project/TrackVision/params.yaml' ):\n",
    "        \n",
    "\n",
    "        self.config = read_yaml(config_filepath)\n",
    "        self.params = read_yaml(params_filepath)\n",
    "        # Create the root dir \n",
    "        create_directories([self.config.artifacts_root])\n",
    "\n",
    "\n",
    "    def get_preaper_model_callbacks_config(self) -> PreaperModelCallBacks:\n",
    "        config = self.config.preaper_callbacks\n",
    "        model_chpt_dir = os.path.dirname(config.checkpoint_model_filepath)\n",
    "        create_directories([\n",
    "            Path(model_chpt_dir) ,\n",
    "            Path(config.tensrboard_root_log_dir)\n",
    "        ])\n",
    "        preaper_model_callbacks_config = PreaperModelCallBacks(\n",
    "            root_dir= Path(config.root_dir),\n",
    "            tensrboard_root_log_dir = Path(config.tensrboard_root_log_dir),\n",
    "            checkpoint_model_filepath = Path(config.checkpoint_model_filepath)\n",
    "             \n",
    "\n",
    "        )\n",
    "\n",
    "    \n",
    "        return preaper_model_callbacks_config"
   ]
  },
  {
   "cell_type": "code",
   "execution_count": 20,
   "metadata": {},
   "outputs": [],
   "source": [
    "import time \n",
    "import tensorflow as tf \n",
    "class PreaperCallBacks:\n",
    "    def __init__ (self  , config = PreaperModelCallBacks):\n",
    "        self.config = config\n",
    "\n",
    "    @property\n",
    "    def _create_tb_callbacks (self):\n",
    "        timestamp = time.strftime('%Y-%m-%d-%H-%M-%S')\n",
    "        tb_running_log_dir = os.path.join(self.config.tensrboard_root_log_dir  \n",
    "                                          , f'tb_logs_at_{timestamp}')\n",
    "        \n",
    "\n",
    "        return tf.keras.callbacks.TensorBoard(log_dir = tb_running_log_dir)\n",
    "    \n",
    "    @property\n",
    "    def _create_checkpoint_callbacks (self):\n",
    "        return tf.keras.callbacks.ModelCheckpoint(filepath= self.config.checkpoint_model_filepath, \n",
    "                                                   save_best_only= True\n",
    "        )\n",
    "    \n",
    "\n",
    "    def get_tb_checkpoint_callbacks (self):\n",
    "        return [\n",
    "            self._create_tb_callbacks,\n",
    "            self._create_checkpoint_callbacks\n",
    "        ]\n",
    "    \n",
    "    \n",
    "                                                          "
   ]
  },
  {
   "cell_type": "code",
   "execution_count": 21,
   "metadata": {},
   "outputs": [
    {
     "name": "stdout",
     "output_type": "stream",
     "text": [
      "2023-06-17 15:16:38,356 - trackvisionlogger - INFO - yaml file /Users/sultanalyami/Desktop/TrackVision_Project/TrackVision/config/config.yaml loaded successfully\n",
      "2023-06-17 15:16:38,358 - trackvisionlogger - INFO - yaml file /Users/sultanalyami/Desktop/TrackVision_Project/TrackVision/params.yaml loaded successfully\n",
      "2023-06-17 15:16:38,359 - trackvisionlogger - INFO - Created directory at: /Users/sultanalyami/Desktop/TrackVision_Project/TrackVision/artifacts\n",
      "2023-06-17 15:16:38,360 - trackvisionlogger - INFO - Created directory at: /Users/sultanalyami/Desktop/TrackVision_Project/TrackVision/artifacts/checkpoint_dir\n",
      "2023-06-17 15:16:38,360 - trackvisionlogger - INFO - Created directory at: /Users/sultanalyami/Desktop/TrackVision_Project/TrackVision/artifacts/preaper_callbacks/tensorboard_log_dir\n"
     ]
    }
   ],
   "source": [
    "from srcTrackVision import logger\n",
    "try:\n",
    "    config = ConfigurationManager()\n",
    "    preaper_callbacks_config = config.get_preaper_model_callbacks_config()\n",
    "    prepaper_model_callbacks = PreaperCallBacks(config= preaper_callbacks_config)\n",
    "    callback_list =  prepaper_model_callbacks.get_tb_checkpoint_callbacks()\n",
    "\n",
    "\n",
    "except Exception as e:\n",
    "    logger.exception(e)\n",
    "    raise e"
   ]
  }
 ],
 "metadata": {
  "kernelspec": {
   "display_name": "tensorflow",
   "language": "python",
   "name": "python3"
  },
  "language_info": {
   "codemirror_mode": {
    "name": "ipython",
    "version": 3
   },
   "file_extension": ".py",
   "mimetype": "text/x-python",
   "name": "python",
   "nbconvert_exporter": "python",
   "pygments_lexer": "ipython3",
   "version": "3.8.16"
  },
  "orig_nbformat": 4
 },
 "nbformat": 4,
 "nbformat_minor": 2
}
