{
 "cells": [
  {
   "cell_type": "code",
   "execution_count": 247,
   "metadata": {},
   "outputs": [],
   "source": [
    "import os "
   ]
  },
  {
   "cell_type": "code",
   "execution_count": 248,
   "metadata": {},
   "outputs": [
    {
     "data": {
      "text/plain": [
       "'/'"
      ]
     },
     "execution_count": 248,
     "metadata": {},
     "output_type": "execute_result"
    }
   ],
   "source": [
    "%pwd"
   ]
  },
  {
   "cell_type": "code",
   "execution_count": 249,
   "metadata": {},
   "outputs": [],
   "source": [
    "os.chdir('../') # back one folder "
   ]
  },
  {
   "cell_type": "code",
   "execution_count": 250,
   "metadata": {},
   "outputs": [
    {
     "data": {
      "text/plain": [
       "'/'"
      ]
     },
     "execution_count": 250,
     "metadata": {},
     "output_type": "execute_result"
    }
   ],
   "source": [
    "%pwd"
   ]
  },
  {
   "cell_type": "code",
   "execution_count": 251,
   "metadata": {},
   "outputs": [],
   "source": [
    "from dataclasses import dataclass\n",
    "from pathlib import Path"
   ]
  },
  {
   "cell_type": "code",
   "execution_count": 252,
   "metadata": {},
   "outputs": [],
   "source": [
    "@dataclass(frozen=True)\n",
    "class DataIngestionConfig:\n",
    "    # Return these types \n",
    "    root_dir : Path\n",
    "    source_url : str \n",
    "    local_data_file : Path\n",
    "    unzip_file : Path"
   ]
  },
  {
   "cell_type": "code",
   "execution_count": 253,
   "metadata": {},
   "outputs": [],
   "source": [
    "# Read the yaml file \n",
    "from srcTrackVision.constants import CONFIG_FILE_PATH , PARMAS_FILE_PATH\n",
    "from srcTrackVision.utils.common import read_yaml ,  create_directories\n"
   ]
  },
  {
   "cell_type": "code",
   "execution_count": 254,
   "metadata": {},
   "outputs": [
    {
     "data": {
      "text/plain": [
       "str"
      ]
     },
     "execution_count": 254,
     "metadata": {},
     "output_type": "execute_result"
    }
   ],
   "source": [
    "type(str(CONFIG_FILE_PATH))"
   ]
  },
  {
   "cell_type": "code",
   "execution_count": 255,
   "metadata": {},
   "outputs": [],
   "source": [
    "class ConfigurationManager:\n",
    "    def __init__(\n",
    "            self , \n",
    "            config_filepath = '/Users/sultanalyami/Desktop/TrackVision_Project/TrackVision/config/config.yaml',\n",
    "            params_filepath = '/Users/sultanalyami/Desktop/TrackVision_Project/TrackVision/params.yaml' ):\n",
    "        \n",
    "\n",
    "        self.config = read_yaml(config_filepath)\n",
    "        self.params = read_yaml(params_filepath)\n",
    "        # Create the root dir \n",
    "        create_directories([self.config.artifacts_root])\n",
    "\n",
    "\n",
    "    def get_data_ingestion_config(self) -> DataIngestionConfig:\n",
    "        config = self.config.data_ingestion\n",
    "        create_directories([config.root_dir])\n",
    "        data_ingestion_config = DataIngestionConfig(\n",
    "            root_dir= config.root_dir,\n",
    "            source_url= config.source_url,\n",
    "            local_data_file = config.local_data_file,\n",
    "            unzip_file = config.unzip_file \n",
    "\n",
    "        )\n",
    "\n",
    "    \n",
    "        return data_ingestion_config\n",
    "         "
   ]
  },
  {
   "cell_type": "code",
   "execution_count": 271,
   "metadata": {},
   "outputs": [],
   "source": [
    "import os \n",
    "from urllib.request import urlopen\n",
    "import zipfile \n",
    "from srcTrackVision import logger\n",
    "from srcTrackVision.utils.common import get_size"
   ]
  },
  {
   "cell_type": "code",
   "execution_count": 278,
   "metadata": {},
   "outputs": [],
   "source": [
    "class DataIngestion:\n",
    "    def __init__(self , config : DataIngestionConfig):\n",
    "        self.config = config\n",
    "\n",
    "    \n",
    "    def download_file(self):\n",
    "        if (not os.path.exists(self.config.local_data_file)):\n",
    "            fin = urlopen(self.config.source_url)\n",
    "            data = fin.read()\n",
    "            with open(self.config.local_data_file, 'wb') as f:\n",
    "                f.write(data)\n",
    "            logger.info(f\"{self.config.local_data_file} downloaded!\")\n",
    "        else : \n",
    "            logger.info(f'File already exists of size : {get_size(Path(self.config.local_data_file))}')\n",
    "\n",
    "    def extract_zip_file(self):\n",
    "        unzip_path = self.config.unzip_file\n",
    "        os.makedirs(unzip_path , exist_ok = True)\n",
    "        with zipfile.ZipFile(self.config.local_data_file, 'r') as f:\n",
    "\n",
    "            f.extractall(unzip_path)"
   ]
  },
  {
   "cell_type": "code",
   "execution_count": 279,
   "metadata": {},
   "outputs": [
    {
     "name": "stdout",
     "output_type": "stream",
     "text": [
      "2023-06-17 12:28:30,858 - trackvisionlogger - INFO - yaml file /Users/sultanalyami/Desktop/TrackVision_Project/TrackVision/config/config.yaml loaded successfully\n",
      "2023-06-17 12:28:30,860 - trackvisionlogger - INFO - yaml file /Users/sultanalyami/Desktop/TrackVision_Project/TrackVision/params.yaml loaded successfully\n",
      "2023-06-17 12:28:30,861 - trackvisionlogger - INFO - created directory at :/Users/sultanalyami/Desktop/TrackVision_Project/TrackVision/artifacts\n",
      "2023-06-17 12:28:30,862 - trackvisionlogger - INFO - created directory at :/Users/sultanalyami/Desktop/TrackVision_Project/TrackVision/artifacts/data_ingestion\n",
      "2023-06-17 12:28:30,863 - trackvisionlogger - INFO - File already exists of size : ~4602 KB\n"
     ]
    }
   ],
   "source": [
    "# Create the pipeline\n",
    "try :\n",
    "    config = ConfigurationManager()\n",
    "    data_ingestion_config = config.get_data_ingestion_config()\n",
    "    data_ingestion = DataIngestion(config= data_ingestion_config)\n",
    "    data_ingestion.download_file()\n",
    "    data_ingestion.extract_zip_file()\n",
    "\n",
    "except Exception as e:\n",
    "    raise e \n",
    "    "
   ]
  },
  {
   "cell_type": "code",
   "execution_count": null,
   "metadata": {},
   "outputs": [],
   "source": []
  }
 ],
 "metadata": {
  "kernelspec": {
   "display_name": "tensorflow",
   "language": "python",
   "name": "python3"
  },
  "language_info": {
   "codemirror_mode": {
    "name": "ipython",
    "version": 3
   },
   "file_extension": ".py",
   "mimetype": "text/x-python",
   "name": "python",
   "nbconvert_exporter": "python",
   "pygments_lexer": "ipython3",
   "version": "3.8.16"
  },
  "orig_nbformat": 4
 },
 "nbformat": 4,
 "nbformat_minor": 2
}
