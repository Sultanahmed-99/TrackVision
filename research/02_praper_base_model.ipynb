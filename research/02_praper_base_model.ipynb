{
 "cells": [
  {
   "cell_type": "code",
   "execution_count": 1,
   "metadata": {},
   "outputs": [],
   "source": [
    "import os "
   ]
  },
  {
   "cell_type": "code",
   "execution_count": 2,
   "metadata": {},
   "outputs": [
    {
     "data": {
      "text/plain": [
       "'/Users/sultanalyami/Desktop/TrackVision_Project/TrackVision/research'"
      ]
     },
     "execution_count": 2,
     "metadata": {},
     "output_type": "execute_result"
    }
   ],
   "source": [
    "%pwd"
   ]
  },
  {
   "cell_type": "code",
   "execution_count": 3,
   "metadata": {},
   "outputs": [],
   "source": [
    "os.chdir('../')"
   ]
  },
  {
   "cell_type": "code",
   "execution_count": 4,
   "metadata": {},
   "outputs": [
    {
     "data": {
      "text/plain": [
       "'/Users/sultanalyami/Desktop/TrackVision_Project/TrackVision'"
      ]
     },
     "execution_count": 4,
     "metadata": {},
     "output_type": "execute_result"
    }
   ],
   "source": [
    "%pwd"
   ]
  },
  {
   "cell_type": "code",
   "execution_count": 8,
   "metadata": {},
   "outputs": [],
   "source": [
    "from dataclasses import dataclass\n",
    "from pathlib import Path\n",
    "@dataclass(frozen=True)\n",
    "class PreaperBaseModelConfig:\n",
    "    root_dir : Path \n",
    "    base_model_path: Path\n",
    "    update_base_model_path: Path\n",
    "    params_model_name : str \n",
    "    params_augmentation : bool \n",
    "    params_image_size : list\n",
    "    params_batch_size : int\n",
    "    params_include_top : bool\n",
    "    params_epochs : int\n",
    "    params_num_classes : int\n",
    "    params_weights : str \n",
    "    params_learning_rate : float\n",
    "\n"
   ]
  },
  {
   "cell_type": "code",
   "execution_count": 6,
   "metadata": {},
   "outputs": [],
   "source": [
    "from srcTrackVision.constants import *\n",
    "from srcTrackVision.utils.common import read_yaml , create_directories"
   ]
  },
  {
   "cell_type": "code",
   "execution_count": 50,
   "metadata": {},
   "outputs": [],
   "source": [
    "class ConfigurationManager:\n",
    "    def __init__(\n",
    "            self , \n",
    "            config_filepath = '/Users/sultanalyami/Desktop/TrackVision_Project/TrackVision/config/config.yaml',\n",
    "            params_filepath = '/Users/sultanalyami/Desktop/TrackVision_Project/TrackVision/params.yaml' ):\n",
    "        \n",
    "\n",
    "        self.config = read_yaml(config_filepath)\n",
    "        self.params = read_yaml(params_filepath)\n",
    "        # Create the root dir \n",
    "        create_directories([self.config.artifacts_root])\n",
    "\n",
    "\n",
    "    def get_preaper_base_mode_config(self) -> PreaperBaseModelConfig:\n",
    "        config = self.config.preaper_base_model\n",
    "        create_directories([config.root_dir])\n",
    "        preaper_base_model_config = PreaperBaseModelConfig(\n",
    "            root_dir= Path(config.root_dir),\n",
    "            base_model_path= Path(config.base_model_path),\n",
    "            update_base_model_path = Path(config.update_base_model_path),\n",
    "            params_model_name= self.params.MODEL_NAME,\n",
    "            params_augmentation= self.params.AUGMENTATION,\n",
    "            params_image_size= self.params.IMAGE_SIZE,\n",
    "            params_batch_size= self.params.BATCH_SIZE,\n",
    "            params_include_top= self.params.INCLUDE_TOP,\n",
    "            params_epochs= self.params.EPOCHS,\n",
    "            params_num_classes= self.params.CLASSES,\n",
    "            params_weights= self.params.WEIGHTS,\n",
    "            params_learning_rate= self.params.LEARNING_RATE,\n",
    "             \n",
    "\n",
    "        )\n",
    "\n",
    "    \n",
    "        return preaper_base_model_config"
   ]
  },
  {
   "cell_type": "code",
   "execution_count": 53,
   "metadata": {},
   "outputs": [],
   "source": [
    "from keras_vggface.vggface import  VGGFace\n",
    "import tensorflow as tf\n",
    "\n",
    "class PreaperBaseModel():\n",
    "    def __init__ (self  , config = PreaperBaseModelConfig):\n",
    "        self.config = config\n",
    "\n",
    "\n",
    "    def get_base_model (self):\n",
    "        self.model = VGGFace(model =  self.config.params_model_name \n",
    "                             , include_top= self.config.params_include_top\n",
    "                             , weights= self.config.params_weights\n",
    "                             , classes= self.config.params_num_classes\n",
    "                              ,input_shape= self.config.params_image_size\n",
    "                              \n",
    "                              \n",
    "        )\n",
    "        self.save_model(path = self.config.base_model_path , model = self.model)\n",
    "    @staticmethod\n",
    "    def _prepare_base_model (model , classes , freez_all  , freez_taill , learning_rate):\n",
    "        if freez_all:\n",
    "            for layer in model.layers:\n",
    "                layer.trainable = False\n",
    "        elif (freez_taill is not None) and (freez_taill > 0):\n",
    "            for layer in model.layers[:-freez_taill]:\n",
    "                            layer.trainable = False\n",
    "\n",
    "\n",
    "        flatten_in = tf.keras.layers.Flatten()(model.output)\n",
    "        prediction_out = tf.keras.layers.Dense(units = classes\n",
    "                                                , activation ='softmax')(flatten_in)\n",
    "\n",
    "        full_model = tf.keras.models.Model(inputs = model.input, outputs = prediction_out)\n",
    "\n",
    "        full_model.compile(\n",
    "              optimizer = tf.keras.optimizers.SGD(learning_rate = learning_rate)\n",
    "              , loss = tf.keras.losses.CategoricalCrossentropy()\n",
    "              , metrics = ['accuracy']\n",
    "        )\n",
    "        full_model.summary()\n",
    "        return full_model\n",
    "\n",
    "    def update_base_model (self):\n",
    "          self.full_model = self._prepare_base_model(\n",
    "                model = self.config.params_model_name \n",
    "                , classes = self.config.params_classes\n",
    "                , freez_all = False \n",
    "                , freez_taill = None \n",
    "                , learning_rate = self.config.params_learning_rate\n",
    "          )\n",
    "          self.save_model(path = self.config.update_base_model_path , model = self.full_model)\n",
    "    @staticmethod\n",
    "    def save_model (path : Path , model : tf.keras.models.Model):\n",
    "          model.save(path)\n",
    "          "
   ]
  },
  {
   "cell_type": "code",
   "execution_count": 54,
   "metadata": {},
   "outputs": [
    {
     "name": "stdout",
     "output_type": "stream",
     "text": [
      "2023-06-17 14:22:54,947 - trackvisionlogger - INFO - yaml file /Users/sultanalyami/Desktop/TrackVision_Project/TrackVision/config/config.yaml loaded successfully\n",
      "2023-06-17 14:22:54,950 - trackvisionlogger - INFO - yaml file /Users/sultanalyami/Desktop/TrackVision_Project/TrackVision/params.yaml loaded successfully\n",
      "2023-06-17 14:22:54,951 - trackvisionlogger - INFO - Created directory at: /Users/sultanalyami/Desktop/TrackVision_Project/TrackVision/artifacts\n",
      "2023-06-17 14:22:54,952 - trackvisionlogger - INFO - Created directory at: /Users/sultanalyami/Desktop/TrackVision_Project/TrackVision/artifacts/preaper_base_model\n",
      "Downloading data from https://github.com/rcmalli/keras-vggface/releases/download/v2.0/rcmalli_vggface_tf_notop_resnet50.h5\n",
      "94694792/94694792 [==============================] - 12s 0us/step\n",
      "2023-06-17 14:23:09,284 - tensorflow - WARNING - Compiled the loaded model, but the compiled metrics have yet to be built. `model.compile_metrics` will be empty until you train or evaluate the model.\n",
      "2023-06-17 14:23:09,531 - trackvisionlogger - ERROR - 'PreaperBaseModelConfig' object has no attribute 'params_classes'\n",
      "Traceback (most recent call last):\n",
      "  File \"/var/folders/tr/5g3m7t9162xfp3xsxpyg0q8r0000gn/T/ipykernel_3619/603350026.py\", line 7, in <module>\n",
      "    prepaper_base_model.update_base_model()\n",
      "  File \"/var/folders/tr/5g3m7t9162xfp3xsxpyg0q8r0000gn/T/ipykernel_3619/399245096.py\", line 46, in update_base_model\n",
      "    , classes = self.config.params_classes\n",
      "AttributeError: 'PreaperBaseModelConfig' object has no attribute 'params_classes'\n"
     ]
    },
    {
     "ename": "AttributeError",
     "evalue": "'PreaperBaseModelConfig' object has no attribute 'params_classes'",
     "output_type": "error",
     "traceback": [
      "\u001b[0;31m---------------------------------------------------------------------------\u001b[0m",
      "\u001b[0;31mAttributeError\u001b[0m                            Traceback (most recent call last)",
      "Cell \u001b[0;32mIn[54], line 12\u001b[0m\n\u001b[1;32m     10\u001b[0m \u001b[39mexcept\u001b[39;00m \u001b[39mException\u001b[39;00m \u001b[39mas\u001b[39;00m e:\n\u001b[1;32m     11\u001b[0m     logger\u001b[39m.\u001b[39mexception(e)\n\u001b[0;32m---> 12\u001b[0m     \u001b[39mraise\u001b[39;00m e\n",
      "Cell \u001b[0;32mIn[54], line 7\u001b[0m\n\u001b[1;32m      5\u001b[0m     prepaper_base_model \u001b[39m=\u001b[39m PreaperBaseModel(config\u001b[39m=\u001b[39m preaper_base_model_config)\n\u001b[1;32m      6\u001b[0m     prepaper_base_model\u001b[39m.\u001b[39mget_base_model()\n\u001b[0;32m----> 7\u001b[0m     prepaper_base_model\u001b[39m.\u001b[39;49mupdate_base_model()\n\u001b[1;32m     10\u001b[0m \u001b[39mexcept\u001b[39;00m \u001b[39mException\u001b[39;00m \u001b[39mas\u001b[39;00m e:\n\u001b[1;32m     11\u001b[0m     logger\u001b[39m.\u001b[39mexception(e)\n",
      "Cell \u001b[0;32mIn[53], line 46\u001b[0m, in \u001b[0;36mPreaperBaseModel.update_base_model\u001b[0;34m(self)\u001b[0m\n\u001b[1;32m     43\u001b[0m \u001b[39mdef\u001b[39;00m \u001b[39mupdate_base_model\u001b[39m (\u001b[39mself\u001b[39m):\n\u001b[1;32m     44\u001b[0m       \u001b[39mself\u001b[39m\u001b[39m.\u001b[39mfull_model \u001b[39m=\u001b[39m \u001b[39mself\u001b[39m\u001b[39m.\u001b[39m_prepare_base_model(\n\u001b[1;32m     45\u001b[0m             model \u001b[39m=\u001b[39m \u001b[39mself\u001b[39m\u001b[39m.\u001b[39mconfig\u001b[39m.\u001b[39mparams_model_name \n\u001b[0;32m---> 46\u001b[0m             , classes \u001b[39m=\u001b[39m \u001b[39mself\u001b[39;49m\u001b[39m.\u001b[39;49mconfig\u001b[39m.\u001b[39;49mparams_classes\n\u001b[1;32m     47\u001b[0m             , freez_all \u001b[39m=\u001b[39m \u001b[39mFalse\u001b[39;00m \n\u001b[1;32m     48\u001b[0m             , freez_taill \u001b[39m=\u001b[39m \u001b[39mNone\u001b[39;00m \n\u001b[1;32m     49\u001b[0m             , learning_rate \u001b[39m=\u001b[39m \u001b[39mself\u001b[39m\u001b[39m.\u001b[39mconfig\u001b[39m.\u001b[39mparams_learning_rate\n\u001b[1;32m     50\u001b[0m       )\n\u001b[1;32m     51\u001b[0m       \u001b[39mself\u001b[39m\u001b[39m.\u001b[39msave_model(path \u001b[39m=\u001b[39m \u001b[39mself\u001b[39m\u001b[39m.\u001b[39mconfig\u001b[39m.\u001b[39mupdate_base_model_path , model \u001b[39m=\u001b[39m \u001b[39mself\u001b[39m\u001b[39m.\u001b[39mfull_model)\n",
      "\u001b[0;31mAttributeError\u001b[0m: 'PreaperBaseModelConfig' object has no attribute 'params_classes'"
     ]
    }
   ],
   "source": [
    "from srcTrackVision import logger\n",
    "try:\n",
    "    config = ConfigurationManager()\n",
    "    preaper_base_model_config = config.get_preaper_base_mode_config()\n",
    "    prepaper_base_model = PreaperBaseModel(config= preaper_base_model_config)\n",
    "    prepaper_base_model.get_base_model()\n",
    "    prepaper_base_model.update_base_model()\n",
    "\n",
    "\n",
    "except Exception as e:\n",
    "    logger.exception(e)\n",
    "    raise e"
   ]
  },
  {
   "cell_type": "code",
   "execution_count": null,
   "metadata": {},
   "outputs": [],
   "source": []
  }
 ],
 "metadata": {
  "kernelspec": {
   "display_name": "tensorflow",
   "language": "python",
   "name": "python3"
  },
  "language_info": {
   "codemirror_mode": {
    "name": "ipython",
    "version": 3
   },
   "file_extension": ".py",
   "mimetype": "text/x-python",
   "name": "python",
   "nbconvert_exporter": "python",
   "pygments_lexer": "ipython3",
   "version": "3.8.16"
  },
  "orig_nbformat": 4
 },
 "nbformat": 4,
 "nbformat_minor": 2
}
